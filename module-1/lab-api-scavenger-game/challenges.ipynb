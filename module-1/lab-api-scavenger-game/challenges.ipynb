{
 "cells": [
  {
   "cell_type": "markdown",
   "metadata": {},
   "source": [
    "# Challenge 1"
   ]
  },
  {
   "cell_type": "code",
   "execution_count": 1,
   "metadata": {},
   "outputs": [],
   "source": [
    "#import necessary modules\n",
    "#json: it understands json files and convert it to \"life\" objects like lists or dicts\n",
    "#requests: it makes the request to an API and receive the specific info required\n",
    "#os-dotenv: in this case they work together to find the .env where the apikey is\n",
    "import json\n",
    "import requests\n",
    "import os\n",
    "from dotenv import load_dotenv\n",
    "import re\n",
    "import base64"
   ]
  },
  {
   "cell_type": "code",
   "execution_count": 2,
   "metadata": {},
   "outputs": [],
   "source": [
    "#path: the path after .com, which in this case is specific for the forks from the repo mad-oct.. from the owner ironhack-data...\n",
    "#params: it is usually a dict, it adds paramas after the ?, it could be the path\n",
    "#http://httpbin.org/get?key1=value1&key2=value2&key3=value3 --> way of use --> res.params inside requests.get\n",
    "#apliKey: it is necessary to get some kind of info; private repos for instance (it is not necessary here)\n",
    "#headers: it will give us some additional info --> res.headers inside requests.get\n",
    "\n",
    "def getFromGithub(path,queryParams=dict(),apiKey=\"\"):\n",
    "    \n",
    "    # Construct the resource url\n",
    "    url = f\"https://api.github.com{path}\"\n",
    "    \n",
    "    # If apiKey is defined, pass a header\n",
    "    headers = {\"Authorization\":f\"token {apiKey}\"} if apiKey else {}\n",
    "\n",
    "    # Perform the request\n",
    "    res = requests.get(url, params=queryParams, headers=headers)\n",
    "    print(res.status_code, res.url)\n",
    "    \n",
    "    # Extract json from body response\n",
    "    return res.json()"
   ]
  },
  {
   "cell_type": "code",
   "execution_count": 12,
   "metadata": {},
   "outputs": [
    {
     "name": "stdout",
     "output_type": "stream",
     "text": [
      "200 https://api.github.com/repos/ironhack-datalabs/datamad0320/forks\n"
     ]
    }
   ],
   "source": [
    "apiKey = os.getenv(\"GITHUB_APIKEY\")\n",
    "\n",
    "forks = getFromGithub(\"/repos/ironhack-datalabs/datamad0320/forks\", apiKey=apiKey)\n"
   ]
  },
  {
   "cell_type": "code",
   "execution_count": 4,
   "metadata": {},
   "outputs": [
    {
     "data": {
      "text/plain": [
       "[None, 'Jupyter Notebook']"
      ]
     },
     "execution_count": 4,
     "metadata": {},
     "output_type": "execute_result"
    }
   ],
   "source": [
    "language = set([x[\"language\"] for x in forks])\n",
    "list(language)"
   ]
  },
  {
   "cell_type": "markdown",
   "metadata": {},
   "source": [
    "# Challenge 2"
   ]
  },
  {
   "cell_type": "code",
   "execution_count": 5,
   "metadata": {},
   "outputs": [
    {
     "name": "stdout",
     "output_type": "stream",
     "text": [
      "200 https://api.github.com/repos/ironhack-datalabs/datamad0320/commits?since=2020-03-15&until=2020-04-05\n"
     ]
    },
    {
     "data": {
      "text/plain": [
       "3"
      ]
     },
     "execution_count": 5,
     "metadata": {},
     "output_type": "execute_result"
    }
   ],
   "source": [
    "#he puesto desde el 15 para que saliera alguno\n",
    "params = {\n",
    "    \"since\": \"2020-03-15\",\n",
    "    \"until\": \"2020-04-05\"\n",
    "}\n",
    "commits = getFromGithub(\"/repos/ironhack-datalabs/datamad0320/commits\", queryParams=params, apiKey=apiKey)\n",
    "n_commits = len(commits)\n",
    "n_commits"
   ]
  },
  {
   "cell_type": "markdown",
   "metadata": {},
   "source": [
    "# Challenge 3"
   ]
  },
  {
   "cell_type": "code",
   "execution_count": 13,
   "metadata": {},
   "outputs": [
    {
     "name": "stdout",
     "output_type": "stream",
     "text": [
      "200 https://api.github.com/repos/ironhack-datalabs/scavenger/git/trees/master?recursive=1\n"
     ]
    }
   ],
   "source": [
    "files = getFromGithub(\"/repos/ironhack-datalabs/scavenger/git/trees/master?recursive=1\", apiKey=apiKey)\n"
   ]
  },
  {
   "cell_type": "code",
   "execution_count": 7,
   "metadata": {
    "scrolled": false
   },
   "outputs": [
    {
     "data": {
      "text/plain": [
       "['15024/.0006.',\n",
       " '15534/.0008.',\n",
       " '15534/.0012.',\n",
       " '17020/.0007.',\n",
       " '30351/.0021.',\n",
       " '40303/.0022.',\n",
       " '44639/.0005.',\n",
       " '45525/.0018.',\n",
       " '47222/.0016.',\n",
       " '47222/.0024.',\n",
       " '47830/.0010.',\n",
       " '49418/.0014.',\n",
       " '50896/.0011.',\n",
       " '55417/.0023.',\n",
       " '55685/.0020.',\n",
       " '60224/.0003.',\n",
       " '68848/.0004.',\n",
       " '70751/.0019.',\n",
       " '70985/.0017.',\n",
       " '88596/.0002.',\n",
       " '89338/.0013.',\n",
       " '91701/.0015.',\n",
       " '97881/.0009.',\n",
       " '98750/.0001.']"
      ]
     },
     "execution_count": 7,
     "metadata": {},
     "output_type": "execute_result"
    }
   ],
   "source": [
    "sca = []\n",
    "for s in files[\"tree\"]:\n",
    "    for c in re.findall(r\"(.*)?scavengerhunt\",s[\"path\"]):\n",
    "        sca.append(c)\n",
    "sorted(sca)"
   ]
  },
  {
   "cell_type": "code",
   "execution_count": 8,
   "metadata": {
    "scrolled": true
   },
   "outputs": [
    {
     "data": {
      "text/plain": [
       "['98750/.0001.',\n",
       " '88596/.0002.',\n",
       " '60224/.0003.',\n",
       " '68848/.0004.',\n",
       " '44639/.0005.',\n",
       " '15024/.0006.',\n",
       " '17020/.0007.',\n",
       " '15534/.0008.',\n",
       " '97881/.0009.',\n",
       " '47830/.0010.',\n",
       " '50896/.0011.',\n",
       " '15534/.0012.',\n",
       " '89338/.0013.',\n",
       " '49418/.0014.',\n",
       " '91701/.0015.',\n",
       " '47222/.0016.',\n",
       " '70985/.0017.',\n",
       " '45525/.0018.',\n",
       " '70751/.0019.',\n",
       " '55685/.0020.',\n",
       " '30351/.0021.',\n",
       " '40303/.0022.',\n",
       " '55417/.0023.',\n",
       " '47222/.0024.']"
      ]
     },
     "execution_count": 8,
     "metadata": {},
     "output_type": "execute_result"
    }
   ],
   "source": [
    "sorted_sca = sorted(sca, key= lambda x:(x[9], x[10]))\n",
    "sorted_sca"
   ]
  },
  {
   "cell_type": "code",
   "execution_count": 10,
   "metadata": {},
   "outputs": [],
   "source": [
    "def encoding(e):\n",
    "    message_bytes = e.encode('ascii')\n",
    "    base64_bytes = base64.b64encode(message_bytes)\n",
    "    base64_message = base64_bytes.decode('ascii')\n",
    "    return base64_message"
   ]
  },
  {
   "cell_type": "code",
   "execution_count": 17,
   "metadata": {},
   "outputs": [
    {
     "name": "stdout",
     "output_type": "stream",
     "text": [
      "403 https://api.github.com/repos/ironhack-datalabs/scavenger/contents/98750/.0001.scavengerhunt\n"
     ]
    },
    {
     "ename": "KeyError",
     "evalue": "'content'",
     "output_type": "error",
     "traceback": [
      "\u001b[0;31m---------------------------------------------------------------------------\u001b[0m",
      "\u001b[0;31mKeyError\u001b[0m                                  Traceback (most recent call last)",
      "\u001b[0;32m<ipython-input-17-1efe48bf0997>\u001b[0m in \u001b[0;36m<module>\u001b[0;34m\u001b[0m\n\u001b[1;32m      2\u001b[0m \u001b[0;32mfor\u001b[0m \u001b[0me\u001b[0m \u001b[0;32min\u001b[0m \u001b[0msorted_sca\u001b[0m\u001b[0;34m:\u001b[0m\u001b[0;34m\u001b[0m\u001b[0;34m\u001b[0m\u001b[0m\n\u001b[1;32m      3\u001b[0m     \u001b[0mc\u001b[0m \u001b[0;34m=\u001b[0m \u001b[0mgetFromGithub\u001b[0m\u001b[0;34m(\u001b[0m\u001b[0;34mf\"/repos/ironhack-datalabs/scavenger/contents/{e}scavengerhunt\"\u001b[0m\u001b[0;34m)\u001b[0m\u001b[0;34m\u001b[0m\u001b[0;34m\u001b[0m\u001b[0m\n\u001b[0;32m----> 4\u001b[0;31m     \u001b[0md\u001b[0m \u001b[0;34m=\u001b[0m \u001b[0mc\u001b[0m\u001b[0;34m[\u001b[0m\u001b[0;34m\"content\"\u001b[0m\u001b[0;34m]\u001b[0m\u001b[0;34m\u001b[0m\u001b[0;34m\u001b[0m\u001b[0m\n\u001b[0m\u001b[1;32m      5\u001b[0m     \u001b[0mescavengers\u001b[0m\u001b[0;34m.\u001b[0m\u001b[0mappend\u001b[0m\u001b[0;34m(\u001b[0m\u001b[0;34m\" \"\u001b[0m\u001b[0;34m.\u001b[0m\u001b[0mjoin\u001b[0m\u001b[0;34m(\u001b[0m\u001b[0mencoding\u001b[0m\u001b[0;34m(\u001b[0m\u001b[0md\u001b[0m\u001b[0;34m)\u001b[0m\u001b[0;34m)\u001b[0m\u001b[0;34m)\u001b[0m\u001b[0;34m\u001b[0m\u001b[0;34m\u001b[0m\u001b[0m\n\u001b[1;32m      6\u001b[0m \u001b[0;34m\u001b[0m\u001b[0m\n",
      "\u001b[0;31mKeyError\u001b[0m: 'content'"
     ]
    }
   ],
   "source": [
    "escavengers = []\n",
    "for e in sorted_sca:\n",
    "    c = getFromGithub(f\"/repos/ironhack-datalabs/scavenger/contents/{e}scavengerhunt\")\n",
    "    d = c[\"content\"]\n",
    "    escavengers.append(\" \".join(encoding(d)))\n",
    "    \n"
   ]
  }
 ],
 "metadata": {
  "kernelspec": {
   "display_name": "Python 3",
   "language": "python",
   "name": "python3"
  },
  "language_info": {
   "codemirror_mode": {
    "name": "ipython",
    "version": 3
   },
   "file_extension": ".py",
   "mimetype": "text/x-python",
   "name": "python",
   "nbconvert_exporter": "python",
   "pygments_lexer": "ipython3",
   "version": "3.7.4"
  }
 },
 "nbformat": 4,
 "nbformat_minor": 2
}
