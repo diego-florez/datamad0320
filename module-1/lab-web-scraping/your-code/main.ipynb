{
 "cells": [
  {
   "cell_type": "markdown",
   "metadata": {},
   "source": [
    "# Web Scraping Lab\n",
    "\n",
    "You will find in this notebook some scrapy exercises to practise your scraping skills.\n",
    "\n",
    "**Tips:**\n",
    "\n",
    "- Check the response status code for each request to ensure you have obtained the intended contennt.\n",
    "- Print the response text in each request to understand the kind of info you are getting and its format.\n",
    "- Check for patterns in the response text to extract the data/info requested in each question.\n",
    "- Visit each url and take a look at its source through Chrome DevTools. You'll need to identify the html tags, special class names etc. used for the html content you are expected to extract."
   ]
  },
  {
   "cell_type": "markdown",
   "metadata": {},
   "source": [
    "- [Requests library](http://docs.python-requests.org/en/master/#the-user-guide) documentation \n",
    "- [Beautiful Soup Doc](https://www.crummy.com/software/BeautifulSoup/bs4/doc/)\n",
    "- [Urllib](https://docs.python.org/3/library/urllib.html#module-urllib)\n",
    "- [re lib](https://docs.python.org/3/library/re.html)\n",
    "- [lxml lib](https://lxml.de/)\n",
    "- [Scrapy](https://scrapy.org/)\n",
    "- [List of HTTP status codes](https://en.wikipedia.org/wiki/List_of_HTTP_status_codes)\n",
    "- [HTML basics](http://www.simplehtmlguide.com/cheatsheet.php)\n",
    "- [CSS basics](https://www.cssbasics.com/#page_start)"
   ]
  },
  {
   "cell_type": "markdown",
   "metadata": {},
   "source": [
    "#### Below are the libraries and modules you may need. `requests`,  `BeautifulSoup` and `pandas` are imported for you. If you prefer to use additional libraries feel free to uncomment them."
   ]
  },
  {
   "cell_type": "code",
   "execution_count": 2,
   "metadata": {},
   "outputs": [],
   "source": [
    "import requests\n",
    "from bs4 import BeautifulSoup\n",
    "import pandas as pd\n",
    "# from pprint import pprint\n",
    "# from lxml import html\n",
    "# from lxml.html import fromstring\n",
    "# import urllib.request\n",
    "# from urllib.request import urlopen\n",
    "# import random\n",
    "import re\n",
    "import base64\n",
    "# import scrapy"
   ]
  },
  {
   "cell_type": "code",
   "execution_count": 3,
   "metadata": {
    "scrolled": false
   },
   "outputs": [
    {
     "name": "stdout",
     "output_type": "stream",
     "text": [
      "200 https://www.wikipedia.org/\n"
     ]
    }
   ],
   "source": [
    "#to avoid repetition of these vars we will change the murl(main_url) each time we want to scrape an url\n",
    "#also we print the status and url to ensure we are in the correspondent url of the exercise\n",
    "\n",
    "murl = 'https://www.wikipedia.org/'\n",
    "\n",
    "def get(murl):\n",
    "    res = requests.get(murl)\n",
    "    print(res.status_code, res.url)\n",
    "    \n",
    "    return res.text\n",
    "\n",
    "res = get(murl)\n",
    "soup = BeautifulSoup(res)\n",
    "\n",
    "href = soup.find_all(\"href\")"
   ]
  },
  {
   "cell_type": "code",
   "execution_count": 4,
   "metadata": {},
   "outputs": [],
   "source": [
    "#replacemente function\n",
    "def rep(x):\n",
    "    x = x.replace(\"\\n\",\"\")\n",
    "    x = x.replace(\" \",\"\")\n",
    "    return x"
   ]
  },
  {
   "cell_type": "markdown",
   "metadata": {},
   "source": [
    "#### Download, parse (using BeautifulSoup), and print the content from the Trending Developers page from GitHub:"
   ]
  },
  {
   "cell_type": "code",
   "execution_count": null,
   "metadata": {},
   "outputs": [],
   "source": [
    "# This is the url you will scrape in this exercise\n",
    "url = 'https://github.com/trending/developers'"
   ]
  },
  {
   "cell_type": "markdown",
   "metadata": {},
   "source": [
    "#### Display the names of the trending developers retrieved in the previous step.\n",
    "\n",
    "Your output should be a Python list of developer names. Each name should not contain any html tag.\n",
    "\n",
    "**Instructions:**\n",
    "\n",
    "1. Find out the html tag and class names used for the developer names. You can achieve this using Chrome DevTools.\n",
    "\n",
    "1. Use BeautifulSoup to extract all the html elements that contain the developer names.\n",
    "\n",
    "1. Use string manipulation techniques to replace whitespaces and linebreaks (i.e. `\\n`) in the *text* of each html element. Use a list to store the clean names.\n",
    "\n",
    "1. Print the list of names.\n",
    "\n",
    "Your output should look like below:\n",
    "\n",
    "```\n",
    "['trimstray (@trimstray)',\n",
    " 'joewalnes (JoeWalnes)',\n",
    " 'charlax (Charles-AxelDein)',\n",
    " 'ForrestKnight (ForrestKnight)',\n",
    " 'revery-ui (revery-ui)',\n",
    " 'alibaba (Alibaba)',\n",
    " 'Microsoft (Microsoft)',\n",
    " 'github (GitHub)',\n",
    " 'facebook (Facebook)',\n",
    " 'boazsegev (Bo)',\n",
    " 'google (Google)',\n",
    " 'cloudfetch',\n",
    " 'sindresorhus (SindreSorhus)',\n",
    " 'tensorflow',\n",
    " 'apache (TheApacheSoftwareFoundation)',\n",
    " 'DevonCrawford (DevonCrawford)',\n",
    " 'ARMmbed (ArmMbed)',\n",
    " 'vuejs (vuejs)',\n",
    " 'fastai (fast.ai)',\n",
    " 'QiShaoXuan (Qi)',\n",
    " 'joelparkerhenderson (JoelParkerHenderson)',\n",
    " 'torvalds (LinusTorvalds)',\n",
    " 'CyC2018',\n",
    " 'komeiji-satori (神楽坂覚々)',\n",
    " 'script-8']\n",
    " ```"
   ]
  },
  {
   "cell_type": "code",
   "execution_count": 5,
   "metadata": {},
   "outputs": [
    {
     "data": {
      "text/plain": [
       "['Jeremy Apthorp',\n",
       " 'Jonah Williams',\n",
       " 'Felix Angelov',\n",
       " 'chencheng (云谦)',\n",
       " 'Sebastián Ramírez',\n",
       " 'Mariusz Nowak',\n",
       " 'Dawid Urbaniak',\n",
       " 'Jeffrey Su',\n",
       " 'Hugo Bowne-Anderson',\n",
       " 'Felipe Fialho',\n",
       " 'Yuri Shkuro',\n",
       " 'R.I.Pienaar',\n",
       " 'Zeno Rocha',\n",
       " 'Maxim Kulkin',\n",
       " 'Robert Mosolgo',\n",
       " 'Pierre Krieger',\n",
       " 'Iman',\n",
       " 'Luis Alvarez',\n",
       " 'Matic Zavadlal',\n",
       " 'Marten Seemann',\n",
       " 'David Peter',\n",
       " 'Jake Wharton',\n",
       " 'Jeff Bezanson',\n",
       " 'James Munnelly',\n",
       " 'Matthew Johnson']"
      ]
     },
     "execution_count": 5,
     "metadata": {},
     "output_type": "execute_result"
    }
   ],
   "source": [
    "#your code\n",
    "n1 = [href.text.strip(\"\\n\") for href in soup.select(\"article.Box-row.d-flex h1.h3.lh-condensed a\")]\n",
    "names = [\" \".join(n.split(\" \")[12:14]) for n in n1]\n",
    "names"
   ]
  },
  {
   "cell_type": "markdown",
   "metadata": {},
   "source": [
    "#### Display the trending Python repositories in GitHub\n",
    "\n",
    "The steps to solve this problem is similar to the previous one except that you need to find out the repository names instead of developer names."
   ]
  },
  {
   "cell_type": "code",
   "execution_count": null,
   "metadata": {},
   "outputs": [],
   "source": [
    "# This is the url you will scrape in this exercise\n",
    "url = 'https://github.com/trending/python?since=daily'"
   ]
  },
  {
   "cell_type": "code",
   "execution_count": 51,
   "metadata": {},
   "outputs": [
    {
     "data": {
      "text/plain": [
       "['pluradl.py',\n",
       " 'SReC',\n",
       " 'interview_internal_reference',\n",
       " 'face_recognition',\n",
       " 'skillbox-async-chat',\n",
       " 'deocclusion',\n",
       " 'text-to-text-transfer-transformer',\n",
       " 'GitHub-Chinese-Top-Charts',\n",
       " 'fastapi',\n",
       " 'Real-Time-Voice-Cloning',\n",
       " 'core',\n",
       " 'ObstructionRemoval',\n",
       " 'Whole-Foods-Delivery-Slot',\n",
       " 'Games',\n",
       " 'doccano',\n",
       " 'jax',\n",
       " 'HanLP',\n",
       " 'pygta5',\n",
       " 'ray',\n",
       " 'elastalert',\n",
       " 'InstaPy',\n",
       " 'transformers',\n",
       " 'Self-Driving-Car-in-Video-Games',\n",
       " 'keras-retinanet',\n",
       " 'airflow']"
      ]
     },
     "execution_count": 51,
     "metadata": {},
     "output_type": "execute_result"
    }
   ],
   "source": [
    "#your code\n",
    "repos = [(rep(href.text)).split(\"/\")[1] for href in soup.select(\"div.Box article.Box-row h1.h3.lh-condensed a\")]\n",
    "repos"
   ]
  },
  {
   "cell_type": "markdown",
   "metadata": {},
   "source": [
    "#### Display all the image links from Walt Disney wikipedia page"
   ]
  },
  {
   "cell_type": "code",
   "execution_count": null,
   "metadata": {},
   "outputs": [],
   "source": [
    "# This is the url you will scrape in this exercise\n",
    "url = 'https://en.wikipedia.org/wiki/Walt_Disney'"
   ]
  },
  {
   "cell_type": "code",
   "execution_count": 184,
   "metadata": {},
   "outputs": [],
   "source": [
    "#your code\n",
    "image = [a for a in soup.select(\"a.image\")]"
   ]
  },
  {
   "cell_type": "code",
   "execution_count": 183,
   "metadata": {},
   "outputs": [
    {
     "data": {
      "text/plain": [
       "['https://upload.wikimedia.org/wikipedia/commons/thumb/d/df/Walt_Disney_1946.JPG/220px-Walt_Disney_1946.JPG',\n",
       " 'https://upload.wikimedia.org/wikipedia/commons/thumb/8/87/Walt_Disney_1942_signature.svg/150px-Walt_Disney_1942_signature.svg.png',\n",
       " 'https://upload.wikimedia.org/wikipedia/commons/thumb/c/c4/Walt_Disney_envelope_ca._1921.jpg/220px-Walt_Disney_envelope_ca._1921.jpg',\n",
       " 'https://upload.wikimedia.org/wikipedia/commons/thumb/0/0d/Trolley_Troubles_poster.jpg/170px-Trolley_Troubles_poster.jpg',\n",
       " 'https://upload.wikimedia.org/wikipedia/commons/thumb/7/71/Walt_Disney_and_his_cartoon_creation_%22Mickey_Mouse%22_-_National_Board_of_Review_Magazine.jpg/170px-Walt_Disney_and_his_cartoon_creation_%22Mickey_Mouse%22_-_National_Board_of_Review_Magazine.jpg',\n",
       " 'https://upload.wikimedia.org/wikipedia/en/thumb/4/4e/Steamboat-willie.jpg/170px-Steamboat-willie.jpg',\n",
       " 'https://upload.wikimedia.org/wikipedia/commons/thumb/5/57/Walt_Disney_1935.jpg/170px-Walt_Disney_1935.jpg',\n",
       " 'https://upload.wikimedia.org/wikipedia/commons/thumb/c/cd/Walt_Disney_Snow_white_1937_trailer_screenshot_%2813%29.jpg/220px-Walt_Disney_Snow_white_1937_trailer_screenshot_%2813%29.jpg',\n",
       " 'https://upload.wikimedia.org/wikipedia/commons/thumb/1/15/Disney_drawing_goofy.jpg/170px-Disney_drawing_goofy.jpg',\n",
       " 'https://upload.wikimedia.org/wikipedia/commons/thumb/1/13/DisneySchiphol1951.jpg/220px-DisneySchiphol1951.jpg',\n",
       " 'https://upload.wikimedia.org/wikipedia/commons/thumb/8/8c/WaltDisneyplansDisneylandDec1954.jpg/220px-WaltDisneyplansDisneylandDec1954.jpg',\n",
       " 'https://upload.wikimedia.org/wikipedia/commons/thumb/f/ff/Walt_disney_portrait_right.jpg/170px-Walt_disney_portrait_right.jpg',\n",
       " 'https://upload.wikimedia.org/wikipedia/commons/thumb/1/1a/Walt_Disney_Grave.JPG/170px-Walt_Disney_Grave.JPG',\n",
       " 'https://upload.wikimedia.org/wikipedia/commons/thumb/2/2d/Roy_O._Disney_with_Company_at_Press_Conference.jpg/170px-Roy_O._Disney_with_Company_at_Press_Conference.jpg',\n",
       " 'https://upload.wikimedia.org/wikipedia/commons/thumb/a/a9/Disney_Display_Case.JPG/170px-Disney_Display_Case.JPG',\n",
       " 'https://upload.wikimedia.org/wikipedia/commons/thumb/6/6c/Disney1968.jpg/170px-Disney1968.jpg',\n",
       " 'https://upload.wikimedia.org/wikipedia/commons/thumb/4/44/The_Walt_Disney_Company_Logo.svg/120px-The_Walt_Disney_Company_Logo.svg.png',\n",
       " 'https://upload.wikimedia.org/wikipedia/commons/thumb/d/da/Animation_disc.svg/30px-Animation_disc.svg.png',\n",
       " 'https://upload.wikimedia.org/wikipedia/en/thumb/6/69/P_vip.svg/29px-P_vip.svg.png',\n",
       " 'https://upload.wikimedia.org/wikipedia/commons/thumb/1/1a/Magic_Kingdom_castle.jpg/24px-Magic_Kingdom_castle.jpg',\n",
       " 'https://upload.wikimedia.org/wikipedia/en/thumb/e/e7/Video-x-generic.svg/30px-Video-x-generic.svg.png',\n",
       " 'https://upload.wikimedia.org/wikipedia/commons/thumb/a/a3/Flag_of_Los_Angeles_County%2C_California.svg/30px-Flag_of_Los_Angeles_County%2C_California.svg.png',\n",
       " 'https://upload.wikimedia.org/wikipedia/commons/thumb/8/8c/Blank_television_set.svg/30px-Blank_television_set.svg.png',\n",
       " 'https://upload.wikimedia.org/wikipedia/en/thumb/a/a4/Flag_of_the_United_States.svg/30px-Flag_of_the_United_States.svg.png']"
      ]
     },
     "execution_count": 183,
     "metadata": {},
     "output_type": "execute_result"
    }
   ],
   "source": [
    "h = \"https://\"\n",
    "links = []\n",
    "for i in image:\n",
    "    s = re.search(r'(src=\"//?)(.*)(\\\" srcset?)',str(i))\n",
    "    links.append(h+s.group(2))\n",
    "links"
   ]
  },
  {
   "cell_type": "markdown",
   "metadata": {},
   "source": [
    "#### Retrieve an arbitary Wikipedia page of \"Python\" and create a list of links on that page"
   ]
  },
  {
   "cell_type": "code",
   "execution_count": null,
   "metadata": {},
   "outputs": [],
   "source": [
    "# This is the url you will scrape in this exercise\n",
    "url ='https://en.wikipedia.org/wiki/Python'"
   ]
  },
  {
   "cell_type": "code",
   "execution_count": 176,
   "metadata": {},
   "outputs": [
    {
     "data": {
      "text/plain": [
       "['https://en.wikipedia.org/wiki/Pythonidae',\n",
       " 'https://en.wikipedia.org/wiki/Python_(genus)',\n",
       " 'https://en.wikipedia.org/wiki/Python_(mythology)',\n",
       " 'https://en.wikipedia.org/wiki/Python_of_Aenus',\n",
       " 'https://en.wikipedia.org/wiki/Python_(painter)',\n",
       " 'https://en.wikipedia.org/wiki/Python_of_Byzantium',\n",
       " 'https://en.wikipedia.org/wiki/Python_of_Catana',\n",
       " 'https://en.wikipedia.org/wiki/Python_(film)',\n",
       " 'https://en.wikipedia.org/wiki/Pythons_2',\n",
       " 'https://en.wikipedia.org/wiki/Monty_Python',\n",
       " 'https://en.wikipedia.org/wiki/Python_(Monty)_Pictures',\n",
       " 'https://en.wikipedia.org/wiki/Python_(programming_language)',\n",
       " 'https://en.wikipedia.org/wiki/CPython',\n",
       " 'https://en.wikipedia.org/wiki/CMU_Common_Lisp',\n",
       " 'https://en.wikipedia.org/wiki/PERQ_3',\n",
       " 'https://en.wikipedia.org/wiki/Python_(Busch_Gardens_Tampa_Bay)',\n",
       " 'https://en.wikipedia.org/wiki/Python_(Coney_Island,_Cincinnati,_Ohio)',\n",
       " 'https://en.wikipedia.org/wiki/Python_(Efteling)',\n",
       " 'https://en.wikipedia.org/wiki/Python_(automobile_maker)',\n",
       " 'https://en.wikipedia.org/wiki/Python_(Ford_prototype)',\n",
       " 'https://en.wikipedia.org/wiki/Colt_Python',\n",
       " 'https://en.wikipedia.org/wiki/Python_(missile)',\n",
       " 'https://en.wikipedia.org/wiki/Python_(nuclear_primary)',\n",
       " 'https://en.wikipedia.org/wiki/Python_Anghelo',\n",
       " 'https://en.wikipedia.org/wiki/PYTHON',\n",
       " 'https://en.wikipedia.org/wiki/Cython',\n",
       " 'https://en.wikipedia.org/wiki/Pyton']"
      ]
     },
     "execution_count": 176,
     "metadata": {},
     "output_type": "execute_result"
    }
   ],
   "source": [
    "#your code\n",
    "ls = \"https://en.wikipedia.org/wiki/\"\n",
    "l = [href.text for href in soup.select(\"div.mw-parser-output ul li a\")[11:]]\n",
    "links = [(ls+e).replace(\" \",\"_\") for e in l]\n",
    "links"
   ]
  },
  {
   "cell_type": "markdown",
   "metadata": {},
   "source": [
    "#### Number of Titles that have changed in the United States Code since its last release point "
   ]
  },
  {
   "cell_type": "code",
   "execution_count": null,
   "metadata": {},
   "outputs": [],
   "source": [
    "# This is the url you will scrape in this exercise\n",
    "url = 'http://uscode.house.gov/download/download.shtml'"
   ]
  },
  {
   "cell_type": "code",
   "execution_count": 155,
   "metadata": {},
   "outputs": [
    {
     "data": {
      "text/plain": [
       "['Title8-AliensandNationality',\n",
       " 'Title22-ForeignRelationsandIntercourse',\n",
       " 'Title29-Labor',\n",
       " 'Title42-ThePublicHealthandWelfare']"
      ]
     },
     "execution_count": 155,
     "metadata": {},
     "output_type": "execute_result"
    }
   ],
   "source": [
    "#your code\n",
    "titles = [rep(href.text) for href in soup.select(\"div.usctitlechanged\")]\n",
    "titles"
   ]
  },
  {
   "cell_type": "markdown",
   "metadata": {},
   "source": [
    "#### A Python list with the top ten FBI's Most Wanted names "
   ]
  },
  {
   "cell_type": "code",
   "execution_count": null,
   "metadata": {},
   "outputs": [],
   "source": [
    "# This is the url you will scrape in this exercise\n",
    "url = 'https://www.fbi.gov/wanted/topten'"
   ]
  },
  {
   "cell_type": "code",
   "execution_count": 206,
   "metadata": {
    "scrolled": true
   },
   "outputs": [],
   "source": [
    "#your code \n",
    "mw = [a for a in soup.find_all(\"img\")[1:]]"
   ]
  },
  {
   "cell_type": "code",
   "execution_count": 205,
   "metadata": {},
   "outputs": [
    {
     "data": {
      "text/plain": [
       "['YASER ABDEL SAID',\n",
       " 'ALEXIS FLORES',\n",
       " 'EUGENE PALMER',\n",
       " 'SANTIAGO VILLALBA MEDEROS',\n",
       " 'RAFAEL CARO-QUINTERO',\n",
       " 'ROBERT WILLIAM FISHER',\n",
       " 'BHADRESHKUMAR CHETANBHAI PATEL',\n",
       " 'ALEJANDRO ROSALES CASTILLO',\n",
       " 'ARNOLDO JIMENEZ',\n",
       " 'JASON DEREK BROWN']"
      ]
     },
     "execution_count": 205,
     "metadata": {},
     "output_type": "execute_result"
    }
   ],
   "source": [
    "mwnames = []\n",
    "for i in mw:\n",
    "    s = re.search(r'(img alt=\"?)(.*)(\\\" class=\"\"?)',str(i))\n",
    "    mwnames.append(s.group(2))\n",
    "mwnames"
   ]
  },
  {
   "cell_type": "markdown",
   "metadata": {},
   "source": [
    "####  20 latest earthquakes info (date, time, latitude, longitude and region name) by the EMSC as a pandas dataframe"
   ]
  },
  {
   "cell_type": "code",
   "execution_count": null,
   "metadata": {},
   "outputs": [],
   "source": [
    "# This is the url you will scrape in this exercise\n",
    "url = 'https://www.emsc-csem.org/Earthquake/'"
   ]
  },
  {
   "cell_type": "code",
   "execution_count": 322,
   "metadata": {
    "scrolled": true
   },
   "outputs": [],
   "source": [
    "dt = [(href.text).split(\" \") for href in soup.select(\"tr.ligne1.normal b a, tr.ligne2.normal b a\")]\n",
    "\n",
    "date = []\n",
    "time = []\n",
    "for e in dt:\n",
    "    for i in e:\n",
    "        date += (i[:10]).split(\"\\xa0\")\n",
    "        time += (i[13:21]).split(\".\")"
   ]
  },
  {
   "cell_type": "code",
   "execution_count": 321,
   "metadata": {},
   "outputs": [],
   "source": [
    "ll = [(href.text).split(\"\\xa0\") for href in soup.select(\"tr.ligne1.normal td.tabev1, tr.ligne1.normal td.tabev2, tr.ligne2.normal td.tabev1, tr.ligne2.normal td.tabev2\")]\n",
    "lat = [e[0] for e in t[::5]]\n",
    "lon = [e[0] for e in t[2::5]]"
   ]
  },
  {
   "cell_type": "code",
   "execution_count": 330,
   "metadata": {
    "scrolled": true
   },
   "outputs": [],
   "source": [
    "r = [(href.text).split(\"\\xa0\") for href in soup.select(\"tr.ligne1.normal td.tb_region, tr.ligne2.normal td.tb_region\")]\n",
    "reg = [e[1] for e in r]"
   ]
  },
  {
   "cell_type": "code",
   "execution_count": 331,
   "metadata": {},
   "outputs": [
    {
     "data": {
      "text/html": [
       "<div>\n",
       "<style scoped>\n",
       "    .dataframe tbody tr th:only-of-type {\n",
       "        vertical-align: middle;\n",
       "    }\n",
       "\n",
       "    .dataframe tbody tr th {\n",
       "        vertical-align: top;\n",
       "    }\n",
       "\n",
       "    .dataframe thead th {\n",
       "        text-align: right;\n",
       "    }\n",
       "</style>\n",
       "<table border=\"1\" class=\"dataframe\">\n",
       "  <thead>\n",
       "    <tr style=\"text-align: right;\">\n",
       "      <th></th>\n",
       "      <th>date</th>\n",
       "      <th>time</th>\n",
       "      <th>lat</th>\n",
       "      <th>lon</th>\n",
       "      <th>reg</th>\n",
       "    </tr>\n",
       "  </thead>\n",
       "  <tbody>\n",
       "    <tr>\n",
       "      <td>0</td>\n",
       "      <td>2020-04-09</td>\n",
       "      <td>19:24:05</td>\n",
       "      <td>0.92</td>\n",
       "      <td>127.25</td>\n",
       "      <td>HALMAHERA, INDONESIA</td>\n",
       "    </tr>\n",
       "    <tr>\n",
       "      <td>1</td>\n",
       "      <td>2020-04-09</td>\n",
       "      <td>19:17:19</td>\n",
       "      <td>34.59</td>\n",
       "      <td>118.80</td>\n",
       "      <td>SOUTHERN CALIFORNIA</td>\n",
       "    </tr>\n",
       "    <tr>\n",
       "      <td>2</td>\n",
       "      <td>2020-04-09</td>\n",
       "      <td>19:05:49</td>\n",
       "      <td>4.39</td>\n",
       "      <td>96.56</td>\n",
       "      <td>NORTHERN SUMATRA, INDONESIA</td>\n",
       "    </tr>\n",
       "    <tr>\n",
       "      <td>3</td>\n",
       "      <td>2020-04-09</td>\n",
       "      <td>18:51:57</td>\n",
       "      <td>35.15</td>\n",
       "      <td>27.79</td>\n",
       "      <td>DODECANESE ISLANDS, GREECE</td>\n",
       "    </tr>\n",
       "    <tr>\n",
       "      <td>4</td>\n",
       "      <td>2020-04-09</td>\n",
       "      <td>18:47:29</td>\n",
       "      <td>38.22</td>\n",
       "      <td>38.76</td>\n",
       "      <td>EASTERN TURKEY</td>\n",
       "    </tr>\n",
       "    <tr>\n",
       "      <td>5</td>\n",
       "      <td>2020-04-09</td>\n",
       "      <td>18:42:41</td>\n",
       "      <td>2.88</td>\n",
       "      <td>103.03</td>\n",
       "      <td>SOUTHERN SUMATRA, INDONESIA</td>\n",
       "    </tr>\n",
       "    <tr>\n",
       "      <td>6</td>\n",
       "      <td>2020-04-09</td>\n",
       "      <td>18:41:56</td>\n",
       "      <td>17.96</td>\n",
       "      <td>66.83</td>\n",
       "      <td>PUERTO RICO</td>\n",
       "    </tr>\n",
       "    <tr>\n",
       "      <td>7</td>\n",
       "      <td>2020-04-09</td>\n",
       "      <td>18:37:33</td>\n",
       "      <td>19.22</td>\n",
       "      <td>155.42</td>\n",
       "      <td>ISLAND OF HAWAII, HAWAII</td>\n",
       "    </tr>\n",
       "    <tr>\n",
       "      <td>8</td>\n",
       "      <td>2020-04-09</td>\n",
       "      <td>18:37:08</td>\n",
       "      <td>35.15</td>\n",
       "      <td>27.83</td>\n",
       "      <td>DODECANESE ISLANDS, GREECE</td>\n",
       "    </tr>\n",
       "    <tr>\n",
       "      <td>9</td>\n",
       "      <td>2020-04-09</td>\n",
       "      <td>18:30:56</td>\n",
       "      <td>49.66</td>\n",
       "      <td>158.10</td>\n",
       "      <td>EAST OF KURIL ISLANDS</td>\n",
       "    </tr>\n",
       "    <tr>\n",
       "      <td>10</td>\n",
       "      <td>2020-04-09</td>\n",
       "      <td>18:10:39</td>\n",
       "      <td>34.69</td>\n",
       "      <td>23.57</td>\n",
       "      <td>CRETE, GREECE</td>\n",
       "    </tr>\n",
       "    <tr>\n",
       "      <td>11</td>\n",
       "      <td>2020-04-09</td>\n",
       "      <td>17:56:59</td>\n",
       "      <td>17.93</td>\n",
       "      <td>66.95</td>\n",
       "      <td>PUERTO RICO REGION</td>\n",
       "    </tr>\n",
       "    <tr>\n",
       "      <td>12</td>\n",
       "      <td>2020-04-09</td>\n",
       "      <td>17:26:27</td>\n",
       "      <td>5.32</td>\n",
       "      <td>68.69</td>\n",
       "      <td>CHAGOS ARCHIPELAGO REGION</td>\n",
       "    </tr>\n",
       "    <tr>\n",
       "      <td>13</td>\n",
       "      <td>2020-04-09</td>\n",
       "      <td>16:57:16</td>\n",
       "      <td>7.31</td>\n",
       "      <td>129.32</td>\n",
       "      <td>KEPULAUAN BABAR, INDONESIA</td>\n",
       "    </tr>\n",
       "    <tr>\n",
       "      <td>14</td>\n",
       "      <td>2020-04-09</td>\n",
       "      <td>16:50:33</td>\n",
       "      <td>33.25</td>\n",
       "      <td>116.64</td>\n",
       "      <td>SOUTHERN CALIFORNIA</td>\n",
       "    </tr>\n",
       "    <tr>\n",
       "      <td>15</td>\n",
       "      <td>2020-04-09</td>\n",
       "      <td>16:30:28</td>\n",
       "      <td>42.11</td>\n",
       "      <td>20.70</td>\n",
       "      <td>KOSOVO *</td>\n",
       "    </tr>\n",
       "    <tr>\n",
       "      <td>16</td>\n",
       "      <td>2020-04-09</td>\n",
       "      <td>16:25:02</td>\n",
       "      <td>15.76</td>\n",
       "      <td>119.18</td>\n",
       "      <td>LUZON, PHILIPPINES</td>\n",
       "    </tr>\n",
       "    <tr>\n",
       "      <td>17</td>\n",
       "      <td>2020-04-09</td>\n",
       "      <td>16:25:02</td>\n",
       "      <td>19.21</td>\n",
       "      <td>70.20</td>\n",
       "      <td>DOMINICAN REPUBLIC</td>\n",
       "    </tr>\n",
       "    <tr>\n",
       "      <td>18</td>\n",
       "      <td>2020-04-09</td>\n",
       "      <td>16:23:08</td>\n",
       "      <td>19.20</td>\n",
       "      <td>155.42</td>\n",
       "      <td>ISLAND OF HAWAII, HAWAII</td>\n",
       "    </tr>\n",
       "    <tr>\n",
       "      <td>19</td>\n",
       "      <td>2020-04-09</td>\n",
       "      <td>16:19:25</td>\n",
       "      <td>45.88</td>\n",
       "      <td>16.01</td>\n",
       "      <td>CROATIA</td>\n",
       "    </tr>\n",
       "    <tr>\n",
       "      <td>20</td>\n",
       "      <td>2020-04-09</td>\n",
       "      <td>16:09:45</td>\n",
       "      <td>38.67</td>\n",
       "      <td>29.05</td>\n",
       "      <td>AZORES ISLANDS, PORTUGAL</td>\n",
       "    </tr>\n",
       "    <tr>\n",
       "      <td>21</td>\n",
       "      <td>2020-04-09</td>\n",
       "      <td>16:07:52</td>\n",
       "      <td>30.77</td>\n",
       "      <td>177.04</td>\n",
       "      <td>KERMADEC ISLANDS, NEW ZEALAND</td>\n",
       "    </tr>\n",
       "    <tr>\n",
       "      <td>22</td>\n",
       "      <td>2020-04-09</td>\n",
       "      <td>15:50:30</td>\n",
       "      <td>44.25</td>\n",
       "      <td>115.23</td>\n",
       "      <td>SOUTHERN IDAHO</td>\n",
       "    </tr>\n",
       "    <tr>\n",
       "      <td>23</td>\n",
       "      <td>2020-04-09</td>\n",
       "      <td>15:48:20</td>\n",
       "      <td>19.69</td>\n",
       "      <td>70.95</td>\n",
       "      <td>DOMINICAN REPUBLIC</td>\n",
       "    </tr>\n",
       "    <tr>\n",
       "      <td>24</td>\n",
       "      <td>2020-04-09</td>\n",
       "      <td>15:46:30</td>\n",
       "      <td>36.50</td>\n",
       "      <td>141.00</td>\n",
       "      <td>NEAR EAST COAST OF HONSHU, JAPAN</td>\n",
       "    </tr>\n",
       "    <tr>\n",
       "      <td>25</td>\n",
       "      <td>2020-04-09</td>\n",
       "      <td>15:40:58</td>\n",
       "      <td>62.92</td>\n",
       "      <td>150.52</td>\n",
       "      <td>CENTRAL ALASKA</td>\n",
       "    </tr>\n",
       "    <tr>\n",
       "      <td>26</td>\n",
       "      <td>2020-04-09</td>\n",
       "      <td>15:36:38</td>\n",
       "      <td>39.59</td>\n",
       "      <td>26.02</td>\n",
       "      <td>NEAR THE COAST OF WESTERN TURKEY</td>\n",
       "    </tr>\n",
       "    <tr>\n",
       "      <td>27</td>\n",
       "      <td>2020-04-09</td>\n",
       "      <td>15:31:53</td>\n",
       "      <td>41.48</td>\n",
       "      <td>19.45</td>\n",
       "      <td>ADRIATIC SEA</td>\n",
       "    </tr>\n",
       "    <tr>\n",
       "      <td>28</td>\n",
       "      <td>2020-04-09</td>\n",
       "      <td>15:28:05</td>\n",
       "      <td>36.26</td>\n",
       "      <td>95.20</td>\n",
       "      <td>OKLAHOMA</td>\n",
       "    </tr>\n",
       "    <tr>\n",
       "      <td>29</td>\n",
       "      <td>2020-04-09</td>\n",
       "      <td>15:15:31</td>\n",
       "      <td>16.79</td>\n",
       "      <td>99.85</td>\n",
       "      <td>OFFSHORE GUERRERO, MEXICO</td>\n",
       "    </tr>\n",
       "    <tr>\n",
       "      <td>30</td>\n",
       "      <td>2020-04-09</td>\n",
       "      <td>15:13:51</td>\n",
       "      <td>17.93</td>\n",
       "      <td>66.84</td>\n",
       "      <td>PUERTO RICO REGION</td>\n",
       "    </tr>\n",
       "    <tr>\n",
       "      <td>31</td>\n",
       "      <td>2020-04-09</td>\n",
       "      <td>15:06:23</td>\n",
       "      <td>39.14</td>\n",
       "      <td>27.84</td>\n",
       "      <td>WESTERN TURKEY</td>\n",
       "    </tr>\n",
       "    <tr>\n",
       "      <td>32</td>\n",
       "      <td>2020-04-09</td>\n",
       "      <td>14:36:20</td>\n",
       "      <td>9.62</td>\n",
       "      <td>112.48</td>\n",
       "      <td>SOUTH OF JAVA, INDONESIA</td>\n",
       "    </tr>\n",
       "    <tr>\n",
       "      <td>33</td>\n",
       "      <td>2020-04-09</td>\n",
       "      <td>14:22:41</td>\n",
       "      <td>20.88</td>\n",
       "      <td>120.46</td>\n",
       "      <td>PHILIPPINE ISLANDS REGION</td>\n",
       "    </tr>\n",
       "    <tr>\n",
       "      <td>34</td>\n",
       "      <td>2020-04-09</td>\n",
       "      <td>14:16:49</td>\n",
       "      <td>52.70</td>\n",
       "      <td>170.62</td>\n",
       "      <td>FOX ISLANDS, ALEUTIAN ISLANDS</td>\n",
       "    </tr>\n",
       "    <tr>\n",
       "      <td>35</td>\n",
       "      <td>2020-04-09</td>\n",
       "      <td>14:09:49</td>\n",
       "      <td>8.71</td>\n",
       "      <td>122.01</td>\n",
       "      <td>FLORES REGION, INDONESIA</td>\n",
       "    </tr>\n",
       "    <tr>\n",
       "      <td>36</td>\n",
       "      <td>2020-04-09</td>\n",
       "      <td>14:06:51</td>\n",
       "      <td>18.20</td>\n",
       "      <td>69.58</td>\n",
       "      <td>TARAPACA, CHILE</td>\n",
       "    </tr>\n",
       "    <tr>\n",
       "      <td>37</td>\n",
       "      <td>2020-04-09</td>\n",
       "      <td>14:03:10</td>\n",
       "      <td>19.37</td>\n",
       "      <td>108.24</td>\n",
       "      <td>REVILLA GIGEDO ISLANDS REGION</td>\n",
       "    </tr>\n",
       "    <tr>\n",
       "      <td>38</td>\n",
       "      <td>2020-04-09</td>\n",
       "      <td>13:59:42</td>\n",
       "      <td>8.41</td>\n",
       "      <td>106.79</td>\n",
       "      <td>SOUTH OF JAVA, INDONESIA</td>\n",
       "    </tr>\n",
       "    <tr>\n",
       "      <td>39</td>\n",
       "      <td>2020-04-09</td>\n",
       "      <td>13:58:34</td>\n",
       "      <td>17.94</td>\n",
       "      <td>66.85</td>\n",
       "      <td>PUERTO RICO REGION</td>\n",
       "    </tr>\n",
       "    <tr>\n",
       "      <td>40</td>\n",
       "      <td>2020-04-09</td>\n",
       "      <td>13:37:33</td>\n",
       "      <td>45.88</td>\n",
       "      <td>7.01</td>\n",
       "      <td>NORTHERN ITALY</td>\n",
       "    </tr>\n",
       "    <tr>\n",
       "      <td>41</td>\n",
       "      <td>2020-04-09</td>\n",
       "      <td>13:31:19</td>\n",
       "      <td>17.96</td>\n",
       "      <td>66.83</td>\n",
       "      <td>PUERTO RICO</td>\n",
       "    </tr>\n",
       "    <tr>\n",
       "      <td>42</td>\n",
       "      <td>2020-04-09</td>\n",
       "      <td>13:07:39</td>\n",
       "      <td>19.18</td>\n",
       "      <td>155.47</td>\n",
       "      <td>ISLAND OF HAWAII, HAWAII</td>\n",
       "    </tr>\n",
       "    <tr>\n",
       "      <td>43</td>\n",
       "      <td>2020-04-09</td>\n",
       "      <td>13:02:27</td>\n",
       "      <td>59.70</td>\n",
       "      <td>153.16</td>\n",
       "      <td>SOUTHERN ALASKA</td>\n",
       "    </tr>\n",
       "    <tr>\n",
       "      <td>44</td>\n",
       "      <td>2020-04-09</td>\n",
       "      <td>12:59:55</td>\n",
       "      <td>40.59</td>\n",
       "      <td>20.66</td>\n",
       "      <td>ALBANIA</td>\n",
       "    </tr>\n",
       "    <tr>\n",
       "      <td>45</td>\n",
       "      <td>2020-04-09</td>\n",
       "      <td>12:44:45</td>\n",
       "      <td>17.85</td>\n",
       "      <td>66.89</td>\n",
       "      <td>PUERTO RICO REGION</td>\n",
       "    </tr>\n",
       "    <tr>\n",
       "      <td>46</td>\n",
       "      <td>2020-04-09</td>\n",
       "      <td>12:40:20</td>\n",
       "      <td>9.33</td>\n",
       "      <td>113.08</td>\n",
       "      <td>SOUTH OF JAVA, INDONESIA</td>\n",
       "    </tr>\n",
       "    <tr>\n",
       "      <td>47</td>\n",
       "      <td>2020-04-09</td>\n",
       "      <td>12:29:41</td>\n",
       "      <td>45.79</td>\n",
       "      <td>14.79</td>\n",
       "      <td>SLOVENIA</td>\n",
       "    </tr>\n",
       "    <tr>\n",
       "      <td>48</td>\n",
       "      <td>2020-04-09</td>\n",
       "      <td>12:26:50</td>\n",
       "      <td>1.37</td>\n",
       "      <td>120.34</td>\n",
       "      <td>MINAHASA, SULAWESI, INDONESIA</td>\n",
       "    </tr>\n",
       "    <tr>\n",
       "      <td>49</td>\n",
       "      <td>2020-04-09</td>\n",
       "      <td>12:20:36</td>\n",
       "      <td>24.86</td>\n",
       "      <td>45.90</td>\n",
       "      <td>NORTHERN MID-ATLANTIC RIDGE</td>\n",
       "    </tr>\n",
       "  </tbody>\n",
       "</table>\n",
       "</div>"
      ],
      "text/plain": [
       "          date      time    lat     lon                               reg\n",
       "0   2020-04-09  19:24:05   0.92  127.25              HALMAHERA, INDONESIA\n",
       "1   2020-04-09  19:17:19  34.59  118.80               SOUTHERN CALIFORNIA\n",
       "2   2020-04-09  19:05:49   4.39   96.56       NORTHERN SUMATRA, INDONESIA\n",
       "3   2020-04-09  18:51:57  35.15   27.79        DODECANESE ISLANDS, GREECE\n",
       "4   2020-04-09  18:47:29  38.22   38.76                    EASTERN TURKEY\n",
       "5   2020-04-09  18:42:41   2.88  103.03       SOUTHERN SUMATRA, INDONESIA\n",
       "6   2020-04-09  18:41:56  17.96   66.83                       PUERTO RICO\n",
       "7   2020-04-09  18:37:33  19.22  155.42          ISLAND OF HAWAII, HAWAII\n",
       "8   2020-04-09  18:37:08  35.15   27.83        DODECANESE ISLANDS, GREECE\n",
       "9   2020-04-09  18:30:56  49.66  158.10             EAST OF KURIL ISLANDS\n",
       "10  2020-04-09  18:10:39  34.69   23.57                     CRETE, GREECE\n",
       "11  2020-04-09  17:56:59  17.93   66.95                PUERTO RICO REGION\n",
       "12  2020-04-09  17:26:27   5.32   68.69         CHAGOS ARCHIPELAGO REGION\n",
       "13  2020-04-09  16:57:16   7.31  129.32        KEPULAUAN BABAR, INDONESIA\n",
       "14  2020-04-09  16:50:33  33.25  116.64               SOUTHERN CALIFORNIA\n",
       "15  2020-04-09  16:30:28  42.11   20.70                          KOSOVO *\n",
       "16  2020-04-09  16:25:02  15.76  119.18                LUZON, PHILIPPINES\n",
       "17  2020-04-09  16:25:02  19.21   70.20                DOMINICAN REPUBLIC\n",
       "18  2020-04-09  16:23:08  19.20  155.42          ISLAND OF HAWAII, HAWAII\n",
       "19  2020-04-09  16:19:25  45.88   16.01                           CROATIA\n",
       "20  2020-04-09  16:09:45  38.67   29.05          AZORES ISLANDS, PORTUGAL\n",
       "21  2020-04-09  16:07:52  30.77  177.04     KERMADEC ISLANDS, NEW ZEALAND\n",
       "22  2020-04-09  15:50:30  44.25  115.23                    SOUTHERN IDAHO\n",
       "23  2020-04-09  15:48:20  19.69   70.95                DOMINICAN REPUBLIC\n",
       "24  2020-04-09  15:46:30  36.50  141.00  NEAR EAST COAST OF HONSHU, JAPAN\n",
       "25  2020-04-09  15:40:58  62.92  150.52                    CENTRAL ALASKA\n",
       "26  2020-04-09  15:36:38  39.59   26.02  NEAR THE COAST OF WESTERN TURKEY\n",
       "27  2020-04-09  15:31:53  41.48   19.45                      ADRIATIC SEA\n",
       "28  2020-04-09  15:28:05  36.26   95.20                          OKLAHOMA\n",
       "29  2020-04-09  15:15:31  16.79   99.85         OFFSHORE GUERRERO, MEXICO\n",
       "30  2020-04-09  15:13:51  17.93   66.84                PUERTO RICO REGION\n",
       "31  2020-04-09  15:06:23  39.14   27.84                    WESTERN TURKEY\n",
       "32  2020-04-09  14:36:20   9.62  112.48          SOUTH OF JAVA, INDONESIA\n",
       "33  2020-04-09  14:22:41  20.88  120.46         PHILIPPINE ISLANDS REGION\n",
       "34  2020-04-09  14:16:49  52.70  170.62     FOX ISLANDS, ALEUTIAN ISLANDS\n",
       "35  2020-04-09  14:09:49   8.71  122.01          FLORES REGION, INDONESIA\n",
       "36  2020-04-09  14:06:51  18.20   69.58                   TARAPACA, CHILE\n",
       "37  2020-04-09  14:03:10  19.37  108.24     REVILLA GIGEDO ISLANDS REGION\n",
       "38  2020-04-09  13:59:42   8.41  106.79          SOUTH OF JAVA, INDONESIA\n",
       "39  2020-04-09  13:58:34  17.94   66.85                PUERTO RICO REGION\n",
       "40  2020-04-09  13:37:33  45.88    7.01                    NORTHERN ITALY\n",
       "41  2020-04-09  13:31:19  17.96   66.83                       PUERTO RICO\n",
       "42  2020-04-09  13:07:39  19.18  155.47          ISLAND OF HAWAII, HAWAII\n",
       "43  2020-04-09  13:02:27  59.70  153.16                   SOUTHERN ALASKA\n",
       "44  2020-04-09  12:59:55  40.59   20.66                           ALBANIA\n",
       "45  2020-04-09  12:44:45  17.85   66.89                PUERTO RICO REGION\n",
       "46  2020-04-09  12:40:20   9.33  113.08          SOUTH OF JAVA, INDONESIA\n",
       "47  2020-04-09  12:29:41  45.79   14.79                          SLOVENIA\n",
       "48  2020-04-09  12:26:50   1.37  120.34     MINAHASA, SULAWESI, INDONESIA\n",
       "49  2020-04-09  12:20:36  24.86   45.90       NORTHERN MID-ATLANTIC RIDGE"
      ]
     },
     "execution_count": 331,
     "metadata": {},
     "output_type": "execute_result"
    }
   ],
   "source": [
    "preDF = {\n",
    "    \"date\" : date,\n",
    "    \"time\": time,\n",
    "    \"lat\" : lat,\n",
    "    \"lon\" : lon,\n",
    "    \"reg\" : reg\n",
    "}\n",
    "\n",
    "df = pd.DataFrame(preDF)\n",
    "df"
   ]
  },
  {
   "cell_type": "markdown",
   "metadata": {},
   "source": [
    "#### Display the date, days, title, city, country of next 25 hackathon events as a Pandas dataframe table"
   ]
  },
  {
   "cell_type": "code",
   "execution_count": null,
   "metadata": {},
   "outputs": [],
   "source": [
    "# This is the url you will scrape in this exercise\n",
    "url ='https://hackevents.co/hackathons'"
   ]
  },
  {
   "cell_type": "markdown",
   "metadata": {},
   "source": [
    "it doesn't work"
   ]
  },
  {
   "cell_type": "markdown",
   "metadata": {},
   "source": [
    "#### Count number of tweets by a given Twitter account."
   ]
  },
  {
   "cell_type": "markdown",
   "metadata": {},
   "source": [
    "You will need to include a ***try/except block*** for account names not found. \n",
    "<br>***Hint:*** the program should count the number of tweets for any provided account"
   ]
  },
  {
   "cell_type": "code",
   "execution_count": null,
   "metadata": {},
   "outputs": [],
   "source": [
    "# This is the url you will scrape in this exercise \n",
    "# You will need to add the account credentials to this url\n",
    "url = 'https://twitter.com/'"
   ]
  },
  {
   "cell_type": "code",
   "execution_count": 352,
   "metadata": {},
   "outputs": [
    {
     "name": "stdout",
     "output_type": "stream",
     "text": [
      "Input your account name on Twitter: @el_pais\n",
      "@el_pais tweets 551421 number of tweets.\n"
     ]
    }
   ],
   "source": [
    "#your code\n",
    "handle = input('Input your account name on Twitter: ')\n",
    "temp = requests.get('https://twitter.com/'+handle)\n",
    "bs = BeautifulSoup(temp.text,'lxml')\n",
    "\n",
    "try:\n",
    "    tweet_box = bs.find('li',{'class':'ProfileNav-item ProfileNav-item--tweets is-active'})\n",
    "    tweets= tweet_box.find('a').find('span',{'class':'ProfileNav-value'})\n",
    "    print(\"{} tweets {} number of tweets.\".format(handle,tweets.get('data-count')))\n",
    "\n",
    "except:\n",
    "    print('Account name not found...')"
   ]
  },
  {
   "cell_type": "markdown",
   "metadata": {},
   "source": [
    "#### Number of followers of a given twitter account"
   ]
  },
  {
   "cell_type": "markdown",
   "metadata": {},
   "source": [
    "You will need to include a ***try/except block*** in case account/s name not found. \n",
    "<br>***Hint:*** the program should count the followers for any provided account"
   ]
  },
  {
   "cell_type": "code",
   "execution_count": null,
   "metadata": {},
   "outputs": [],
   "source": [
    "# This is the url you will scrape in this exercise \n",
    "# You will need to add the account credentials to this url\n",
    "url = 'https://twitter.com/'"
   ]
  },
  {
   "cell_type": "code",
   "execution_count": 353,
   "metadata": {},
   "outputs": [
    {
     "name": "stdout",
     "output_type": "stream",
     "text": [
      "Input your account name on Twitter: @el_pais\n",
      "Number of followers: 7498397 \n"
     ]
    }
   ],
   "source": [
    "#your code\n",
    "handle = input('Input your account name on Twitter: ') \n",
    "temp = requests.get('https://twitter.com/'+handle)\n",
    "bs = BeautifulSoup(temp.text,'lxml')\n",
    "try:\n",
    "    follow_box = bs.find('li',{'class':'ProfileNav-item ProfileNav-item--followers'})\n",
    "    followers = follow_box.find('a').find('span',{'class':'ProfileNav-value'})\n",
    "    print(\"Number of followers: {} \".format(followers.get('data-count')))\n",
    "except:\n",
    "    print('Account name not found...')"
   ]
  },
  {
   "cell_type": "markdown",
   "metadata": {},
   "source": [
    "#### List all language names and number of related articles in the order they appear in wikipedia.org"
   ]
  },
  {
   "cell_type": "code",
   "execution_count": null,
   "metadata": {},
   "outputs": [],
   "source": [
    "# This is the url you will scrape in this exercise\n",
    "url = 'https://www.wikipedia.org/'"
   ]
  },
  {
   "cell_type": "code",
   "execution_count": 20,
   "metadata": {
    "scrolled": true
   },
   "outputs": [
    {
     "data": {
      "text/plain": [
       "[('English', '6050000'),\n",
       " ('Español', '1588000'),\n",
       " ('', '1198000'),\n",
       " ('Deutsch', '2416000'),\n",
       " ('Français', '2197000'),\n",
       " ('Ркий', '1611000'),\n",
       " ('Italiano', '1595000'),\n",
       " ('中', '1109000'),\n",
       " ('Português', '1027000'),\n",
       " ('Polski', '1399000')]"
      ]
     },
     "execution_count": 20,
     "metadata": {},
     "output_type": "execute_result"
    }
   ],
   "source": [
    "#your code\n",
    "ls = [(href.text).strip().split('\\n') for href in soup.select(\"div.central-featured div\")]\n",
    "\n",
    "lan = [e.encode('cp1252',\"ignore\").decode('utf-8',\"ignore\") for i in ls for e in i[::5]]\n",
    "num = [re.sub(r'[^0-9]','',e) for i in ls for e in i[1::5]] \n",
    "\n",
    "lans = [(a,b) for a,b in zip(lan,num)]\n",
    "lans\n",
    "\n",
    "#no he sabido decodificar esta parte de los idiomas..."
   ]
  },
  {
   "cell_type": "markdown",
   "metadata": {},
   "source": [
    "#### A list with the different kind of datasets available in data.gov.uk "
   ]
  },
  {
   "cell_type": "code",
   "execution_count": null,
   "metadata": {},
   "outputs": [],
   "source": [
    "# This is the url you will scrape in this exercise\n",
    "url = 'https://data.gov.uk/'"
   ]
  },
  {
   "cell_type": "code",
   "execution_count": 414,
   "metadata": {
    "scrolled": true
   },
   "outputs": [
    {
     "data": {
      "text/plain": [
       "['Business and economy',\n",
       " 'Crime and justice',\n",
       " 'Defence',\n",
       " 'Education',\n",
       " 'Environment',\n",
       " 'Government',\n",
       " 'Government spending',\n",
       " 'Health',\n",
       " 'Mapping',\n",
       " 'Society',\n",
       " 'Towns and cities',\n",
       " 'Transport']"
      ]
     },
     "execution_count": 414,
     "metadata": {},
     "output_type": "execute_result"
    }
   ],
   "source": [
    "#your code \n",
    "ds = [a for a in soup.select(\"div.column-one-third a\")]\n",
    "dt = []\n",
    "for i in ds:\n",
    "    s = re.search(r'(%5D=?)(.*)(\\\">?)',str(i).replace(\"+\",\" \"))\n",
    "    dt.append(s.group(2))\n",
    "dt"
   ]
  },
  {
   "cell_type": "markdown",
   "metadata": {},
   "source": [
    "#### Top 10 languages by number of native speakers stored in a Pandas Dataframe"
   ]
  },
  {
   "cell_type": "code",
   "execution_count": null,
   "metadata": {},
   "outputs": [],
   "source": [
    "# This is the url you will scrape in this exercise\n",
    "url = 'https://en.wikipedia.org/wiki/List_of_languages_by_number_of_native_speakers'"
   ]
  },
  {
   "cell_type": "code",
   "execution_count": 499,
   "metadata": {
    "scrolled": true
   },
   "outputs": [
    {
     "data": {
      "text/html": [
       "<div>\n",
       "<style scoped>\n",
       "    .dataframe tbody tr th:only-of-type {\n",
       "        vertical-align: middle;\n",
       "    }\n",
       "\n",
       "    .dataframe tbody tr th {\n",
       "        vertical-align: top;\n",
       "    }\n",
       "\n",
       "    .dataframe thead th {\n",
       "        text-align: right;\n",
       "    }\n",
       "</style>\n",
       "<table border=\"1\" class=\"dataframe\">\n",
       "  <thead>\n",
       "    <tr style=\"text-align: right;\">\n",
       "      <th></th>\n",
       "      <th>Countries</th>\n",
       "    </tr>\n",
       "  </thead>\n",
       "  <tbody>\n",
       "    <tr>\n",
       "      <td>0</td>\n",
       "      <td>Mandarin Chinese</td>\n",
       "    </tr>\n",
       "    <tr>\n",
       "      <td>1</td>\n",
       "      <td>Spanish</td>\n",
       "    </tr>\n",
       "    <tr>\n",
       "      <td>2</td>\n",
       "      <td>English</td>\n",
       "    </tr>\n",
       "    <tr>\n",
       "      <td>3</td>\n",
       "      <td>Hindi (Sanskritised Hindustani)[9]</td>\n",
       "    </tr>\n",
       "    <tr>\n",
       "      <td>4</td>\n",
       "      <td>Bengali</td>\n",
       "    </tr>\n",
       "    <tr>\n",
       "      <td>5</td>\n",
       "      <td>Portuguese</td>\n",
       "    </tr>\n",
       "    <tr>\n",
       "      <td>6</td>\n",
       "      <td>Russian</td>\n",
       "    </tr>\n",
       "    <tr>\n",
       "      <td>7</td>\n",
       "      <td>Japanese</td>\n",
       "    </tr>\n",
       "    <tr>\n",
       "      <td>8</td>\n",
       "      <td>Western Punjabi[10]</td>\n",
       "    </tr>\n",
       "    <tr>\n",
       "      <td>9</td>\n",
       "      <td>Marathi</td>\n",
       "    </tr>\n",
       "  </tbody>\n",
       "</table>\n",
       "</div>"
      ],
      "text/plain": [
       "                            Countries\n",
       "0                    Mandarin Chinese\n",
       "1                             Spanish\n",
       "2                             English\n",
       "3  Hindi (Sanskritised Hindustani)[9]\n",
       "4                             Bengali\n",
       "5                          Portuguese\n",
       "6                             Russian\n",
       "7                            Japanese\n",
       "8                 Western Punjabi[10]\n",
       "9                             Marathi"
      ]
     },
     "execution_count": 499,
     "metadata": {},
     "output_type": "execute_result"
    }
   ],
   "source": [
    "#your code\n",
    "tb = [href.text.strip(\"\\n\") for href in soup.select(\"table td:nth-child(2)\")][0:10]\n",
    "\n",
    "df3 = pd.DataFrame(tb)\n",
    "df3 = df3.rename(columns={0: 'Countries'})\n",
    "df3"
   ]
  },
  {
   "cell_type": "markdown",
   "metadata": {},
   "source": [
    "### BONUS QUESTIONS"
   ]
  },
  {
   "cell_type": "markdown",
   "metadata": {},
   "source": [
    "#### Scrape a certain number of tweets of a given Twitter account."
   ]
  },
  {
   "cell_type": "code",
   "execution_count": null,
   "metadata": {},
   "outputs": [],
   "source": [
    "# This is the url you will scrape in this exercise \n",
    "# You will need to add the account credentials to this url\n",
    "url = 'https://twitter.com/'"
   ]
  },
  {
   "cell_type": "code",
   "execution_count": null,
   "metadata": {},
   "outputs": [],
   "source": [
    "# your code"
   ]
  },
  {
   "cell_type": "markdown",
   "metadata": {},
   "source": [
    "#### IMDB's Top 250 data (movie name, Initial release, director name and stars) as a pandas dataframe"
   ]
  },
  {
   "cell_type": "code",
   "execution_count": null,
   "metadata": {},
   "outputs": [],
   "source": [
    "# This is the url you will scrape in this exercise \n",
    "url = 'https://www.imdb.com/chart/top'"
   ]
  },
  {
   "cell_type": "code",
   "execution_count": null,
   "metadata": {},
   "outputs": [],
   "source": [
    "# your code"
   ]
  },
  {
   "cell_type": "markdown",
   "metadata": {},
   "source": [
    "#### Movie name, year and a brief summary of the top 10 random movies (IMDB) as a pandas dataframe."
   ]
  },
  {
   "cell_type": "code",
   "execution_count": null,
   "metadata": {},
   "outputs": [],
   "source": [
    "#This is the url you will scrape in this exercise\n",
    "url = 'http://www.imdb.com/chart/top'"
   ]
  },
  {
   "cell_type": "code",
   "execution_count": null,
   "metadata": {},
   "outputs": [],
   "source": [
    "#your code"
   ]
  },
  {
   "cell_type": "markdown",
   "metadata": {},
   "source": [
    "#### Find the live weather report (temperature, wind speed, description and weather) of a given city."
   ]
  },
  {
   "cell_type": "code",
   "execution_count": null,
   "metadata": {},
   "outputs": [],
   "source": [
    "#https://openweathermap.org/current\n",
    "city = city=input('Enter the city:')\n",
    "url = 'http://api.openweathermap.org/data/2.5/weather?'+'q='+city+'&APPID=b35975e18dc93725acb092f7272cc6b8&units=metric'"
   ]
  },
  {
   "cell_type": "code",
   "execution_count": null,
   "metadata": {},
   "outputs": [],
   "source": [
    "# your code"
   ]
  },
  {
   "cell_type": "markdown",
   "metadata": {},
   "source": [
    "#### Book name,price and stock availability as a pandas dataframe."
   ]
  },
  {
   "cell_type": "code",
   "execution_count": null,
   "metadata": {},
   "outputs": [],
   "source": [
    "# This is the url you will scrape in this exercise. \n",
    "# It is a fictional bookstore created to be scraped. \n",
    "url = 'http://books.toscrape.com/'"
   ]
  },
  {
   "cell_type": "code",
   "execution_count": null,
   "metadata": {},
   "outputs": [],
   "source": [
    "#your code"
   ]
  }
 ],
 "metadata": {
  "kernelspec": {
   "display_name": "Python 3",
   "language": "python",
   "name": "python3"
  },
  "language_info": {
   "codemirror_mode": {
    "name": "ipython",
    "version": 3
   },
   "file_extension": ".py",
   "mimetype": "text/x-python",
   "name": "python",
   "nbconvert_exporter": "python",
   "pygments_lexer": "ipython3",
   "version": "3.7.4"
  }
 },
 "nbformat": 4,
 "nbformat_minor": 2
}
