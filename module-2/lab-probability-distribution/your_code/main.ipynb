{
 "cells": [
  {
   "cell_type": "markdown",
   "metadata": {},
   "source": [
    "# Before your start:\n",
    "- Read the README.md file\n",
    "- Comment as much as you can and use the resources (README.md file)\n",
    "- Happy learning!"
   ]
  },
  {
   "cell_type": "code",
   "execution_count": 1,
   "metadata": {},
   "outputs": [
    {
     "name": "stderr",
     "output_type": "stream",
     "text": [
      "/home/diego/anaconda3/lib/python3.7/site-packages/statsmodels/tools/_testing.py:19: FutureWarning: pandas.util.testing is deprecated. Use the functions in the public API at pandas.testing instead.\n",
      "  import pandas.util.testing as tm\n"
     ]
    }
   ],
   "source": [
    "# Import your libraries\n",
    "import matplotlib.pyplot as plt\n",
    "import numpy as np\n",
    "import seaborn as sns\n",
    "from scipy.stats import binom\n",
    "from scipy import stats"
   ]
  },
  {
   "cell_type": "markdown",
   "metadata": {},
   "source": [
    "# Challenge 1 - Generate and Plot Normal Distributions"
   ]
  },
  {
   "cell_type": "markdown",
   "metadata": {},
   "source": [
    "#### Step 1: Generate samples and test normal distribution\n",
    "\n",
    "Use mean=50, standard_deviation=5, and sample_size=[10, 50, 500, 5000] to generate 4 random samples that are normally distributed. Test your normal distributions with [`scipy.stats.normaltest`](https://docs.scipy.org/doc/scipy/reference/generated/scipy.stats.normaltest.html).\n",
    "\n",
    "\n",
    "*Hint: Read the documentation for `scipy.stats.normaltest`. The function does not simply return Yes or No for whether your data is normal distribution. It returns the likelihood.*"
   ]
  },
  {
   "cell_type": "code",
   "execution_count": 4,
   "metadata": {},
   "outputs": [
    {
     "name": "stdout",
     "output_type": "stream",
     "text": [
      "NormaltestResult(statistic=0.8294973846440784, pvalue=0.6605062501414143)\n",
      "NormaltestResult(statistic=11.299237011966285, pvalue=0.0035188589425141307)\n",
      "NormaltestResult(statistic=1.793910980196983, pvalue=0.40780935126432927)\n",
      "NormaltestResult(statistic=2.0412412467550274, pvalue=0.3603712159548148)\n"
     ]
    }
   ],
   "source": [
    "# Your code here\n",
    "from scipy.stats import normaltest\n",
    "\n",
    "mu, sigma = 50, 5 # mean and standard deviation\n",
    "s_10 = np.random.normal(mu, sigma, 10)\n",
    "s_50 = np.random.normal(mu, sigma, 50)\n",
    "s_500 = np.random.normal(mu, sigma, 500)\n",
    "s_5000 = np.random.normal(mu, sigma, 5000)\n",
    "\n",
    "print(normaltest(s_10))\n",
    "print(normaltest(s_50))\n",
    "print(normaltest(s_500))\n",
    "print(normaltest(s_5000))"
   ]
  },
  {
   "cell_type": "markdown",
   "metadata": {},
   "source": [
    "#### Interpret the normaltest results and make your observations."
   ]
  },
  {
   "cell_type": "markdown",
   "metadata": {},
   "source": [
    "**h0 = asumimos que nuestra muestra sigue una distribucion normal**\n",
    "\n",
    "Entonces viendo los p-value no podemos rechazar h0 en resultados 1,3 y 4\n",
    "\n",
    "Pero rechazamos h0 para opt 2\n",
    "\n",
    "Por tanto solo la seria una muestra con distr no normal y si skewed"
   ]
  },
  {
   "cell_type": "markdown",
   "metadata": {},
   "source": [
    "#### Step 2: Plot normal distributions\n",
    "\n",
    "Use matplotlib subplots to plot a histogram of each sample. \n",
    "\n",
    "*Hints:*\n",
    "- Use subplots to compare your figures side by side.\n",
    "\n",
    "- Your output should look like below:\n",
    "\n",
    "![normal distributions with different sample sizes](ch-1.png)"
   ]
  },
  {
   "cell_type": "code",
   "execution_count": 5,
   "metadata": {},
   "outputs": [
    {
     "data": {
      "text/plain": [
       "(array([  21.,  120.,  419.,  943., 1370., 1186.,  642.,  225.,   64.,\n",
       "          10.]),\n",
       " array([33.58538886, 37.03001869, 40.47464852, 43.91927836, 47.36390819,\n",
       "        50.80853802, 54.25316785, 57.69779769, 61.14242752, 64.58705735,\n",
       "        68.03168718]),\n",
       " <a list of 10 Patch objects>)"
      ]
     },
     "execution_count": 5,
     "metadata": {},
     "output_type": "execute_result"
    },
    {
     "data": {
      "image/png": "[encoded data removed]",
      "text/plain": [
       "<Figure size 1080x360 with 4 Axes>"
      ]
     },
     "metadata": {
      "needs_background": "light"
     },
     "output_type": "display_data"
    }
   ],
   "source": [
    "# Your code here\n",
    "fig, axes = plt.subplots(1,4, figsize= (15,5))\n",
    "plt.sca(axes[0])\n",
    "plt.hist(s_10)\n",
    "plt.sca(axes[1])\n",
    "plt.hist(s_50)\n",
    "plt.sca(axes[2])\n",
    "plt.hist(s_500)\n",
    "plt.sca(axes[3])\n",
    "plt.hist(s_5000)"
   ]
  },
  {
   "cell_type": "markdown",
   "metadata": {},
   "source": [
    "#### Compare the distributions above. What do you observe? Explain with the Central Limit Theorem."
   ]
  },
  {
   "cell_type": "markdown",
   "metadata": {},
   "source": [
    "https://economipedia.com/definiciones/teorema-central-del-limite.html\n",
    "\n",
    "El CLT afirma que a medida que la muestra aumenta, la media se acercara cada vez mas a la media poblacional\n",
    "y por tanto la distribucion sera cada vez mas normal\n",
    "\n",
    "En este caso se cumple, excepto en el punto dos, que es menos normal que es uno teniendo un muestra mayor"
   ]
  },
  {
   "cell_type": "markdown",
   "metadata": {},
   "source": [
    "# Challenge 2 - Plot Probability Mass Function (PMF)"
   ]
  },
  {
   "cell_type": "markdown",
   "metadata": {},
   "source": [
    "#### Background knowledge\n",
    "\n",
    "[PMF](https://en.wikipedia.org/wiki/Probability_mass_function) shows the probability distribution of a **discrete random variable**. A [discrete random variable](https://en.wikipedia.org/wiki/Random_variable#Discrete_random_variable) has random numeric values that are not continuous. For example, the number of people in a household can only be integers but not floats. Therefore the number of people in a household is a discrete variable.\n",
    "\n",
    "#### Question: We assume that the probability of clicking an Ad in a Youtube video is 0.15. We have a sample of 5 people who wathched the video and we want to plot the PMF for a binomial distribution.\n",
    "\n",
    "*Hint: use binom from `scipy.stats.binom`. Your output should look like below:*\n",
    "\n",
    "![binom 10](ch-2.png)"
   ]
  },
  {
   "cell_type": "code",
   "execution_count": 7,
   "metadata": {},
   "outputs": [
    {
     "data": {
      "text/plain": [
       "<matplotlib.collections.LineCollection at 0x7fc5e9518650>"
      ]
     },
     "execution_count": 7,
     "metadata": {},
     "output_type": "execute_result"
    },
    {
     "data": {
      "image/png": "[encoded data removed]",
      "text/plain": [
       "<Figure size 432x288 with 1 Axes>"
      ]
     },
     "metadata": {
      "needs_background": "light"
     },
     "output_type": "display_data"
    }
   ],
   "source": [
    "# https://economipedia.com/definiciones/distribucion-binomial.html\n",
    "\n",
    "from scipy.stats import binom\n",
    "\n",
    "n = 5 #muestra\n",
    "p = 0.15\n",
    "\n",
    "fig, ax = plt.subplots(1, 1)\n",
    "\n",
    "x = range(5) #numero de exitos, en este caso, al no tener x, sera la prob de cada numero del 0-5\n",
    "\n",
    "ax.plot(x, binom.pmf(x, n, p), '-', ms=8, label='binom pmf')\n",
    "ax.vlines(x, 0, binom.pmf(x, n, p), colors='b', lw=5, alpha=0.5)"
   ]
  },
  {
   "cell_type": "markdown",
   "metadata": {},
   "source": [
    "#### Explain what you observe from the plot above"
   ]
  },
  {
   "cell_type": "markdown",
   "metadata": {},
   "source": [
    "La probabilidad de mas personas vean el anuncio va disminuyendo a medida que aumenta el numero de personas\n",
    "\n",
    "Por tanto la probabilidad de que 0 lo vean es alta >0.4, de que 1 lo vea .4, y asi va disminuyendo"
   ]
  },
  {
   "cell_type": "markdown",
   "metadata": {},
   "source": [
    "#### Now plot PMP with 50, 500, and 5000 visitors."
   ]
  },
  {
   "cell_type": "code",
   "execution_count": 9,
   "metadata": {},
   "outputs": [
    {
     "data": {
      "text/plain": [
       "[<matplotlib.lines.Line2D at 0x7fc5e8bede10>]"
      ]
     },
     "execution_count": 9,
     "metadata": {},
     "output_type": "execute_result"
    },
    {
     "data": {
      "image/png": "[encoded data removed]",
      "text/plain": [
       "<Figure size 1080x360 with 3 Axes>"
      ]
     },
     "metadata": {
      "needs_background": "light"
     },
     "output_type": "display_data"
    }
   ],
   "source": [
    "# Your code here\n",
    "\n",
    "fig, axes = plt.subplots(3,1, figsize=(15,5))\n",
    "\n",
    "plt.sca(axes[0])\n",
    "plt.plot(range(50), binom.pmf(range(50), 50, .15), '-', ms=8, label='binom pmf')\n",
    "\n",
    "plt.sca(axes[1])\n",
    "plt.plot(range(500), binom.pmf(range(500), 500, .15), '-', ms=8, label='binom pmf')\n",
    "\n",
    "plt.sca(axes[2])\n",
    "plt.plot(range(5000), binom.pmf(range(5000), 5000, .15), '-', ms=8, label='binom pmf')"
   ]
  },
  {
   "cell_type": "markdown",
   "metadata": {},
   "source": [
    "#### What did you notice from the distribution plots? Comment your findings."
   ]
  },
  {
   "cell_type": "markdown",
   "metadata": {},
   "source": [
    "Aqui observamos que a medida que aumenta la muestra las probabilidades de que 0 personas vean el video van disminuyendo. Sin embargo, tambien una vez alcanzado un pico, que se situa en 7 para 50, 70 para 500, ect, es decir; un 15% del total de la poblacion, a partir de ahi, la probabilidad es menor"
   ]
  },
  {
   "cell_type": "markdown",
   "metadata": {},
   "source": [
    "# Challenge 3"
   ]
  },
  {
   "cell_type": "markdown",
   "metadata": {},
   "source": [
    "#### Reaserch the Poisson distribution. Write about your own understanding of the Poisson distribution."
   ]
  },
  {
   "cell_type": "markdown",
   "metadata": {},
   "source": [
    "https://www.slideshare.net/ofeliapaola/cuadros-comparativos-de-distribucion-poisson-y-distribucion-binomial\n",
    "\n",
    "La distribucion Poisson es similar Bernoulli, pero tiene ciertas diferencias:\n",
    "  \n",
    "- La muestra tiende a ser mas grande y la prob mas pequeña\n",
    "- La razon es porque suele ser usada para detectar sucesos \"raros\" basados en una media\n",
    "- Y estos sucesos raros se producen en un espacio tiempo\n",
    "\n",
    "Lo explico con un ejemplo de cada\n",
    "\n",
    "- **Bernoulli**:\n",
    "Sabiendo que la p de que 1 coche pase por una carretera x es 30%, habiendo 5 coches fuera de casa, cual es la probabilidad de que 3 pasen por la carretera?\n",
    "\n",
    "- **Poisson**:\n",
    "Sabiendo que el 80% de los coches que pasan por una carretera son rojos, cual es la probabilidad de que pase 1 amarillo?\n",
    "\n",
    "\n",
    "Poisson --> si el número de pruebas n es grande, pero la probabilidad de éxito p es pequeña, siendo lambda = np;\n",
    "podemos considerar que la aproximación Poisson-binomial es “buena” si n >= 20 y p =< 0,05 y\n",
    "“muy buena” si n >= 100 y p =< 0,01."
   ]
  },
  {
   "cell_type": "markdown",
   "metadata": {},
   "source": [
    "#### A website has an average of 300 visits per day. What is the probability of getting 320 visitors in a day?\n",
    "\n",
    "*Hint: use `scipy.stats.poisson`*"
   ]
  },
  {
   "cell_type": "code",
   "execution_count": 10,
   "metadata": {},
   "outputs": [
    {
     "data": {
      "text/plain": [
       "0.011612348610402475"
      ]
     },
     "execution_count": 10,
     "metadata": {},
     "output_type": "execute_result"
    }
   ],
   "source": [
    "# Your code here\n",
    "from scipy.stats import poisson\n",
    "poisson.pmf(320, 300)"
   ]
  },
  {
   "cell_type": "markdown",
   "metadata": {},
   "source": [
    "#### What is the probability of getting 60 visits?"
   ]
  },
  {
   "cell_type": "code",
   "execution_count": 11,
   "metadata": {},
   "outputs": [
    {
     "data": {
      "text/plain": [
       "2.622743762294515e-64"
      ]
     },
     "execution_count": 11,
     "metadata": {},
     "output_type": "execute_result"
    }
   ],
   "source": [
    "# Your code here\n",
    "poisson.pmf(60, 300)"
   ]
  },
  {
   "cell_type": "markdown",
   "metadata": {},
   "source": [
    "#### Plot the distribution of the probability for getting 0-1000 visits.\n",
    "\n",
    "*Hints:* \n",
    "\n",
    "- Create a list to store the Poisson distribution probabilities for n=0 to 1000. Then plot the probabilities.\n",
    "\n",
    "- Your plot should look like below:\n",
    "\n",
    "![poisson distribution](ch-3.png)"
   ]
  },
  {
   "cell_type": "code",
   "execution_count": 13,
   "metadata": {},
   "outputs": [
    {
     "data": {
      "text/plain": [
       "[<matplotlib.lines.Line2D at 0x7fc5e94e1190>]"
      ]
     },
     "execution_count": 13,
     "metadata": {},
     "output_type": "execute_result"
    },
    {
     "data": {
      "image/png": "[encoded data removed]",
      "text/plain": [
       "<Figure size 1080x360 with 1 Axes>"
      ]
     },
     "metadata": {
      "needs_background": "light"
     },
     "output_type": "display_data"
    }
   ],
   "source": [
    "# your code here\n",
    "x = range(0,1001)\n",
    "\n",
    "plt.figure(figsize=(15,5))\n",
    "plt.plot((range(1001)), poisson.pmf(range(1001), 300), '-', ms=8, label='binom pmf')"
   ]
  },
  {
   "cell_type": "markdown",
   "metadata": {},
   "source": [
    "Como podemos ver la probabilidad disminuye a medida que la muestra se aleja de la media"
   ]
  }
 ],
 "metadata": {
  "anaconda-cloud": {},
  "kernelspec": {
   "display_name": "Python 3",
   "language": "python",
   "name": "python3"
  },
  "language_info": {
   "codemirror_mode": {
    "name": "ipython",
    "version": 3
   },
   "file_extension": ".py",
   "mimetype": "text/x-python",
   "name": "python",
   "nbconvert_exporter": "python",
   "pygments_lexer": "ipython3",
   "version": "3.7.4"
  }
 },
 "nbformat": 4,
 "nbformat_minor": 1
}
